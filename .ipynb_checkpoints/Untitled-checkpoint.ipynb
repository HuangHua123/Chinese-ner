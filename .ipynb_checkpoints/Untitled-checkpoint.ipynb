{
 "cells": [
  {
   "cell_type": "code",
   "execution_count": 27,
   "metadata": {},
   "outputs": [
    {
     "name": "stderr",
     "output_type": "stream",
     "text": [
      "[I 201116 13:58:42 loader:130] Loading pretrained embeddings from /data/HH_home/ner/server/plugins/ner/vec.txt...\n"
     ]
    }
   ],
   "source": [
    "import os\n",
    "import sys\n",
    "dir_path = os.path.dirname(os.path.abspath(\"../../../\"+'__file__'))  # 自定义包索引\n",
    "sys.path.insert(1, dir_path)\n",
    "\n",
    "os.environ[\"CUDA_VISIBLE_DEVICES\"] = \"7\"\n",
    "from server.plugins.ner.NER import NER\n",
    "\n",
    "job_context = {\n",
    "    \n",
    "    'test_prefix':'./',\n",
    "    'model_type':'idcnn',\n",
    "    'clip':5,\n",
    "    'seg_dim':20,\n",
    "    'char_dim':100,\n",
    "    'lstm_dim':100,\n",
    "    'dropout': 0.5,\n",
    "    'batch_size': 60,\n",
    "    'lr': 0.001,\n",
    "    'optimizer': 'adam',\n",
    "    'max_epoch': 50,\n",
    "    \"steps_check\": 100\n",
    "    \n",
    "}\n",
    "train_model = NER(job_context)\n",
    "train_model.pre_train()\n",
    "# train_model.train()\n",
    "# train_model.evaluate()\n",
    "\n",
    "# predict_model = NER(job_context)\n",
    "# predict_model.init_model()\n",
    "# result = predict_model.predict({\n",
    "#     'content': '双肺呼吸音清，未闻及干湿性罗音,心脏听诊律齐72次/分'\n",
    "# })\n",
    "# print(result)"
   ]
  },
  {
   "cell_type": "code",
   "execution_count": 28,
   "metadata": {},
   "outputs": [
    {
     "name": "stderr",
     "output_type": "stream",
     "text": [
      "[I 201116 13:58:46 utils:145] Reading model parameters from ./tmp/ckpt/ner.ckpt\n"
     ]
    },
    {
     "name": "stdout",
     "output_type": "stream",
     "text": [
      "INFO:tensorflow:Restoring parameters from ./tmp/ckpt/ner.ckpt\n"
     ]
    },
    {
     "name": "stderr",
     "output_type": "stream",
     "text": [
      "[I 201116 13:58:46 NER:53] start training\n",
      "[I 201116 13:58:46 NER:56] Training the 0 epoch\n",
      "[I 201116 13:59:00 NER:64] iteration:23 step:62/79, NER loss:14.864285\n",
      "[I 201116 13:59:04 NER:66] The 0 epoch finished!\n",
      "[I 201116 13:59:04 NER:56] Training the 1 epoch\n",
      "[I 201116 13:59:21 NER:66] The 1 epoch finished!\n",
      "[I 201116 13:59:21 NER:56] Training the 2 epoch\n",
      "[I 201116 13:59:22 NER:64] iteration:25 step:4/79, NER loss: 8.216373\n",
      "[I 201116 13:59:38 NER:66] The 2 epoch finished!\n",
      "[I 201116 13:59:38 NER:56] Training the 3 epoch\n",
      "[I 201116 13:59:43 NER:64] iteration:26 step:25/79, NER loss: 6.871397\n",
      "[I 201116 13:59:55 NER:66] The 3 epoch finished!\n",
      "[I 201116 13:59:55 NER:56] Training the 4 epoch\n",
      "[I 201116 14:00:04 NER:64] iteration:27 step:46/79, NER loss: 6.304755\n",
      "[I 201116 14:00:12 NER:66] The 4 epoch finished!\n",
      "[I 201116 14:00:12 NER:56] Training the 5 epoch\n",
      "[I 201116 14:00:28 NER:64] iteration:28 step:67/79, NER loss: 7.190425\n",
      "[I 201116 14:00:30 NER:66] The 5 epoch finished!\n",
      "[I 201116 14:00:30 NER:56] Training the 6 epoch\n",
      "[I 201116 14:00:47 NER:66] The 6 epoch finished!\n",
      "[I 201116 14:00:47 NER:56] Training the 7 epoch\n",
      "[I 201116 14:00:49 NER:64] iteration:30 step:9/79, NER loss: 5.534974\n",
      "[I 201116 14:01:04 NER:66] The 7 epoch finished!\n",
      "[I 201116 14:01:04 NER:56] Training the 8 epoch\n",
      "[I 201116 14:01:11 NER:64] iteration:31 step:30/79, NER loss: 5.850653\n",
      "[I 201116 14:01:21 NER:66] The 8 epoch finished!\n",
      "[I 201116 14:01:21 NER:56] Training the 9 epoch\n",
      "[I 201116 14:01:31 NER:64] iteration:32 step:51/79, NER loss: 4.451109\n",
      "[I 201116 14:01:38 NER:66] The 9 epoch finished!\n",
      "[I 201116 14:01:38 NER:56] Training the 10 epoch\n",
      "[I 201116 14:01:53 NER:64] iteration:33 step:72/79, NER loss: 4.952595\n",
      "[I 201116 14:01:55 NER:66] The 10 epoch finished!\n",
      "[I 201116 14:01:55 NER:56] Training the 11 epoch\n",
      "[I 201116 14:02:12 NER:66] The 11 epoch finished!\n",
      "[I 201116 14:02:13 NER:56] Training the 12 epoch\n",
      "[I 201116 14:02:15 NER:64] iteration:35 step:14/79, NER loss: 4.572544\n",
      "[I 201116 14:02:29 NER:66] The 12 epoch finished!\n",
      "[I 201116 14:02:30 NER:56] Training the 13 epoch\n",
      "[I 201116 14:02:36 NER:64] iteration:36 step:35/79, NER loss: 4.163604\n",
      "[I 201116 14:02:47 NER:66] The 13 epoch finished!\n",
      "[I 201116 14:02:47 NER:56] Training the 14 epoch\n",
      "[I 201116 14:03:00 NER:64] iteration:37 step:56/79, NER loss: 4.344822\n",
      "[I 201116 14:03:04 NER:66] The 14 epoch finished!\n",
      "[I 201116 14:03:04 NER:56] Training the 15 epoch\n",
      "[I 201116 14:03:21 NER:64] iteration:38 step:77/79, NER loss: 3.823750\n",
      "[I 201116 14:03:21 NER:66] The 15 epoch finished!\n",
      "[I 201116 14:03:21 NER:56] Training the 16 epoch\n",
      "[I 201116 14:03:38 NER:66] The 16 epoch finished!\n",
      "[I 201116 14:03:38 NER:56] Training the 17 epoch\n",
      "[I 201116 14:03:41 NER:64] iteration:40 step:19/79, NER loss: 3.576802\n",
      "[I 201116 14:03:56 NER:66] The 17 epoch finished!\n",
      "[I 201116 14:03:56 NER:56] Training the 18 epoch\n",
      "[I 201116 14:04:04 NER:64] iteration:41 step:40/79, NER loss: 3.718288\n",
      "[I 201116 14:04:13 NER:66] The 18 epoch finished!\n",
      "[I 201116 14:04:13 NER:56] Training the 19 epoch\n",
      "[I 201116 14:04:25 NER:64] iteration:42 step:61/79, NER loss: 3.361878\n",
      "[I 201116 14:04:30 NER:66] The 19 epoch finished!\n",
      "[I 201116 14:04:30 NER:56] Training the 20 epoch\n",
      "[I 201116 14:04:47 NER:66] The 20 epoch finished!\n",
      "[I 201116 14:04:47 NER:56] Training the 21 epoch\n",
      "[I 201116 14:04:47 NER:64] iteration:44 step:3/79, NER loss: 3.440639\n",
      "[I 201116 14:05:04 NER:66] The 21 epoch finished!\n",
      "[I 201116 14:05:04 NER:56] Training the 22 epoch\n",
      "[I 201116 14:05:09 NER:64] iteration:45 step:24/79, NER loss: 3.590389\n",
      "[I 201116 14:05:21 NER:66] The 22 epoch finished!\n",
      "[I 201116 14:05:21 NER:56] Training the 23 epoch\n",
      "[I 201116 14:05:30 NER:64] iteration:46 step:45/79, NER loss: 2.773501\n",
      "[I 201116 14:05:38 NER:66] The 23 epoch finished!\n",
      "[I 201116 14:05:38 NER:56] Training the 24 epoch\n",
      "[I 201116 14:05:52 NER:64] iteration:47 step:66/79, NER loss: 2.944364\n",
      "[I 201116 14:05:55 NER:66] The 24 epoch finished!\n",
      "[I 201116 14:05:55 NER:56] Training the 25 epoch\n",
      "[I 201116 14:06:12 NER:66] The 25 epoch finished!\n",
      "[I 201116 14:06:12 NER:56] Training the 26 epoch\n",
      "[I 201116 14:06:15 NER:64] iteration:49 step:8/79, NER loss: 3.086096\n",
      "[I 201116 14:06:29 NER:66] The 26 epoch finished!\n",
      "[I 201116 14:06:29 NER:56] Training the 27 epoch\n",
      "[I 201116 14:06:36 NER:64] iteration:50 step:29/79, NER loss: 2.423441\n",
      "[I 201116 14:06:47 NER:66] The 27 epoch finished!\n",
      "[I 201116 14:06:47 NER:56] Training the 28 epoch\n",
      "[I 201116 14:06:57 NER:64] iteration:51 step:50/79, NER loss: 2.481855\n",
      "[I 201116 14:07:04 NER:66] The 28 epoch finished!\n",
      "[I 201116 14:07:04 NER:56] Training the 29 epoch\n",
      "[I 201116 14:07:19 NER:64] iteration:52 step:71/79, NER loss: 2.630561\n",
      "[I 201116 14:07:21 NER:66] The 29 epoch finished!\n",
      "[I 201116 14:07:21 NER:56] Training the 30 epoch\n",
      "[I 201116 14:07:38 NER:66] The 30 epoch finished!\n",
      "[I 201116 14:07:38 NER:56] Training the 31 epoch\n",
      "[I 201116 14:07:41 NER:64] iteration:54 step:13/79, NER loss: 2.414367\n",
      "[I 201116 14:07:55 NER:66] The 31 epoch finished!\n",
      "[I 201116 14:07:55 NER:56] Training the 32 epoch\n",
      "[I 201116 14:08:03 NER:64] iteration:55 step:34/79, NER loss: 2.447757\n",
      "[I 201116 14:08:12 NER:66] The 32 epoch finished!\n",
      "[I 201116 14:08:12 NER:56] Training the 33 epoch\n",
      "[I 201116 14:08:24 NER:64] iteration:56 step:55/79, NER loss: 2.287545\n",
      "[I 201116 14:08:29 NER:66] The 33 epoch finished!\n",
      "[I 201116 14:08:29 NER:56] Training the 34 epoch\n",
      "[I 201116 14:08:46 NER:64] iteration:57 step:76/79, NER loss: 2.335646\n",
      "[I 201116 14:08:46 NER:66] The 34 epoch finished!\n",
      "[I 201116 14:08:46 NER:56] Training the 35 epoch\n",
      "[I 201116 14:09:04 NER:66] The 35 epoch finished!\n",
      "[I 201116 14:09:04 NER:56] Training the 36 epoch\n",
      "[I 201116 14:09:08 NER:64] iteration:59 step:18/79, NER loss: 2.251528\n",
      "[I 201116 14:09:21 NER:66] The 36 epoch finished!\n",
      "[I 201116 14:09:21 NER:56] Training the 37 epoch\n",
      "[I 201116 14:09:30 NER:64] iteration:60 step:39/79, NER loss: 2.290663\n",
      "[I 201116 14:09:38 NER:66] The 37 epoch finished!\n",
      "[I 201116 14:09:38 NER:56] Training the 38 epoch\n",
      "[I 201116 14:09:51 NER:64] iteration:61 step:60/79, NER loss: 1.936009\n",
      "[I 201116 14:09:55 NER:66] The 38 epoch finished!\n",
      "[I 201116 14:09:55 NER:56] Training the 39 epoch\n",
      "[I 201116 14:10:12 NER:66] The 39 epoch finished!\n",
      "[I 201116 14:10:12 NER:56] Training the 40 epoch\n",
      "[I 201116 14:10:13 NER:64] iteration:63 step:2/79, NER loss: 1.966474\n",
      "[I 201116 14:10:29 NER:66] The 40 epoch finished!\n",
      "[I 201116 14:10:29 NER:56] Training the 41 epoch\n",
      "[I 201116 14:10:34 NER:64] iteration:64 step:23/79, NER loss: 1.744356\n",
      "[I 201116 14:10:46 NER:66] The 41 epoch finished!\n",
      "[I 201116 14:10:46 NER:56] Training the 42 epoch\n",
      "[I 201116 14:10:56 NER:64] iteration:65 step:44/79, NER loss: 1.925751\n",
      "[I 201116 14:11:04 NER:66] The 42 epoch finished!\n",
      "[I 201116 14:11:04 NER:56] Training the 43 epoch\n",
      "[I 201116 14:11:17 NER:64] iteration:66 step:65/79, NER loss: 1.790583\n",
      "[I 201116 14:11:21 NER:66] The 43 epoch finished!\n",
      "[I 201116 14:11:21 NER:56] Training the 44 epoch\n",
      "[I 201116 14:11:38 NER:66] The 44 epoch finished!\n",
      "[I 201116 14:11:38 NER:56] Training the 45 epoch\n",
      "[I 201116 14:11:39 NER:64] iteration:68 step:7/79, NER loss: 1.876267\n",
      "[I 201116 14:11:55 NER:66] The 45 epoch finished!\n",
      "[I 201116 14:11:55 NER:56] Training the 46 epoch\n",
      "[I 201116 14:12:01 NER:64] iteration:69 step:28/79, NER loss: 1.661207\n",
      "[I 201116 14:12:12 NER:66] The 46 epoch finished!\n",
      "[I 201116 14:12:12 NER:56] Training the 47 epoch\n",
      "[I 201116 14:12:22 NER:64] iteration:70 step:49/79, NER loss: 1.685449\n",
      "[I 201116 14:12:29 NER:66] The 47 epoch finished!\n",
      "[I 201116 14:12:29 NER:56] Training the 48 epoch\n",
      "[I 201116 14:12:44 NER:64] iteration:71 step:70/79, NER loss: 1.689845\n",
      "[I 201116 14:12:46 NER:66] The 48 epoch finished!\n",
      "[I 201116 14:12:46 NER:56] Training the 49 epoch\n",
      "[I 201116 14:13:03 NER:66] The 49 epoch finished!\n",
      "[I 201116 14:13:03 NER:68] Training end, model in storage.....\n",
      "[I 201116 14:13:04 utils:134] model saved\n",
      "[I 201116 14:13:04 NER:70] Model saved！\n"
     ]
    }
   ],
   "source": [
    "train_model.train()"
   ]
  },
  {
   "cell_type": "code",
   "execution_count": 29,
   "metadata": {},
   "outputs": [
    {
     "name": "stderr",
     "output_type": "stream",
     "text": [
      "[I 201116 14:13:05 utils:145] Reading model parameters from ./tmp/ckpt/ner.ckpt\n"
     ]
    },
    {
     "name": "stdout",
     "output_type": "stream",
     "text": [
      "INFO:tensorflow:Restoring parameters from ./tmp/ckpt/ner.ckpt\n"
     ]
    },
    {
     "name": "stderr",
     "output_type": "stream",
     "text": [
      "[I 201116 14:13:05 NER:76] evaluate:dev\n",
      "[I 201116 14:13:08 NER:80] processed 59386 tokens with 3822 phrases; found: 3831 phrases; correct: 3178.\n",
      "    \n",
      "[I 201116 14:13:08 NER:80] accuracy:  93.64%; precision:  82.95%; recall:  83.15%; FB1:  83.05\n",
      "    \n",
      "[I 201116 14:13:08 NER:80]           address: precision:  69.45%; recall:  79.76%; FB1:  74.25  658\n",
      "    \n",
      "[I 201116 14:13:08 NER:80]              book: precision:  76.09%; recall:  67.31%; FB1:  71.43  46\n",
      "    \n",
      "[I 201116 14:13:08 NER:80]           company: precision:  85.71%; recall:  86.82%; FB1:  86.26  630\n",
      "    \n",
      "[I 201116 14:13:08 NER:80]              game: precision:  95.82%; recall:  91.24%; FB1:  93.47  239\n",
      "    \n",
      "[I 201116 14:13:08 NER:80]        government: precision:  86.12%; recall:  88.64%; FB1:  87.36  317\n",
      "    \n",
      "[I 201116 14:13:08 NER:80]             movie: precision:  88.89%; recall:  38.10%; FB1:  53.33  18\n",
      "    \n",
      "[I 201116 14:13:08 NER:80]              name: precision:  83.61%; recall:  77.47%; FB1:  80.43  543\n",
      "    \n",
      "[I 201116 14:13:08 NER:80]      organization: precision:  85.55%; recall:  84.43%; FB1:  84.99  526\n",
      "    \n",
      "[I 201116 14:13:08 NER:80]          position: precision:  90.98%; recall:  92.53%; FB1:  91.75  599\n",
      "    \n",
      "[I 201116 14:13:08 NER:80]             scene: precision:  70.20%; recall:  67.29%; FB1:  68.71  255\n",
      "    \n",
      "[I 201116 14:13:08 NER:86] new best dev f1 score:83.050\n",
      "[I 201116 14:13:08 NER:100] Evaluate score：83.05\n"
     ]
    },
    {
     "data": {
      "text/plain": [
       "83.05"
      ]
     },
     "execution_count": 29,
     "metadata": {},
     "output_type": "execute_result"
    }
   ],
   "source": [
    "train_model.evaluate()"
   ]
  },
  {
   "cell_type": "code",
   "execution_count": 30,
   "metadata": {},
   "outputs": [
    {
     "name": "stderr",
     "output_type": "stream",
     "text": [
      "[I 201116 14:38:24 utils:145] Reading model parameters from ./tmp/ckpt/ner.ckpt\n"
     ]
    },
    {
     "name": "stdout",
     "output_type": "stream",
     "text": [
      "INFO:tensorflow:Restoring parameters from ./tmp/ckpt/ner.ckpt\n",
      "{'string': '九寨沟真是一个好地方', 'entities': [{'word': '九寨沟', 'start': 0, 'end': 3, 'type': 'scene'}]}\n"
     ]
    }
   ],
   "source": [
    "predict_model = NER(job_context)\n",
    "predict_model.init_model()\n",
    "result = predict_model.predict({\n",
    "    'content': '九寨沟真是一个好地方'\n",
    "})\n",
    "print(result)"
   ]
  },
  {
   "cell_type": "code",
   "execution_count": null,
   "metadata": {},
   "outputs": [],
   "source": []
  },
  {
   "cell_type": "code",
   "execution_count": null,
   "metadata": {},
   "outputs": [],
   "source": []
  }
 ],
 "metadata": {
  "kernelspec": {
   "display_name": "sichuan",
   "language": "python",
   "name": "sichuan"
  },
  "language_info": {
   "codemirror_mode": {
    "name": "ipython",
    "version": 3
   },
   "file_extension": ".py",
   "mimetype": "text/x-python",
   "name": "python",
   "nbconvert_exporter": "python",
   "pygments_lexer": "ipython3",
   "version": "3.6.8"
  }
 },
 "nbformat": 4,
 "nbformat_minor": 4
}
